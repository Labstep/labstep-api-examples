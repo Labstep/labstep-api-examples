{
 "cells": [
  {
   "cell_type": "markdown",
   "metadata": {},
   "source": [
    "# Deleting Multiple Entities\n",
    "\n",
    "You can use labstepPy to easily delete multiple different Entities on Labstep (including, a list of Experiments, Protocols, or Tags, etc.), either from within a specific Workspace or by performing a global delete.\n",
    "\n",
    "## Setup"
   ]
  },
  {
   "cell_type": "code",
   "execution_count": null,
   "metadata": {},
   "outputs": [],
   "source": [
    "pip install labstep"
   ]
  },
  {
   "cell_type": "code",
   "execution_count": null,
   "metadata": {},
   "outputs": [],
   "source": [
    "import labstep\n",
    "\n",
    "user = labstep.authenticate(username='YOUR_USERNAME',\n",
    "                            apikey='YOUR_API_KEY')"
   ]
  },
  {
   "cell_type": "markdown",
   "metadata": {},
   "source": [
    "## Start coding\n",
    "\n",
    "### Choose a workspace"
   ]
  },
  {
   "cell_type": "code",
   "execution_count": null,
   "metadata": {},
   "outputs": [],
   "source": [
    "my_workspace = user.getWorkspaces(name='Structure of Protein A')[0]\n",
    "user.setWorkspace(my_workspace.id)"
   ]
  },
  {
   "cell_type": "markdown",
   "metadata": {},
   "source": [
    "#### Delete a list of Tags for 'crystallisation' that are only in the Resource entity type"
   ]
  },
  {
   "cell_type": "code",
   "execution_count": null,
   "metadata": {},
   "outputs": [],
   "source": [
    "tags_to_delete = user.getTags(search_query='crystallisation', type='resource')\n",
    "\n",
    "for i in range(len(tags_to_delete)):\n",
    "    print('TAGS TO DELETE =', tags_to_delete[i].name)\n",
    "    tags_to_delete[i].delete()"
   ]
  },
  {
   "cell_type": "markdown",
   "metadata": {},
   "source": [
    "#### Define a function, diff(), to get the difference of two lists using set()"
   ]
  },
  {
   "cell_type": "code",
   "execution_count": null,
   "metadata": {},
   "outputs": [],
   "source": [
    "def diff(list1, list2):\n",
    "    return (list(set(list1) - set(list2)))"
   ]
  },
  {
   "cell_type": "markdown",
   "metadata": {},
   "source": [
    "#### Only keep experiments that investigate the protein structure by 'NMR' and store the IDs in a list"
   ]
  },
  {
   "cell_type": "code",
   "execution_count": null,
   "metadata": {},
   "outputs": [],
   "source": [
    "keep_experiments = user.getExperiments(search_query='NMR')\n",
    "\n",
    "keep_exp_ids = []\n",
    "\n",
    "for i in range(len(keep_experiments)):\n",
    "    print('EXPERIMENTS TO KEEP =', keep_experiments[i].name)\n",
    "    print('EXPERIMENT IDS TO KEEP =', keep_experiments[i].id)\n",
    "    keep_exp_ids.append(keep_experiments[i].id)"
   ]
  },
  {
   "cell_type": "markdown",
   "metadata": {},
   "source": [
    "#### Get all experiment IDs and store the IDs in a list"
   ]
  },
  {
   "cell_type": "code",
   "execution_count": null,
   "metadata": {},
   "outputs": [],
   "source": [
    "all_experiments = user.getExperiments()\n",
    "\n",
    "all_exp_ids = []\n",
    "\n",
    "for i in range(len(all_experiments)):\n",
    "    all_exp_ids.append(all_experiments[i].id)"
   ]
  },
  {
   "cell_type": "markdown",
   "metadata": {},
   "source": [
    "#### Find the IDs of Experiments to delete using the diff() function, and delete them"
   ]
  },
  {
   "cell_type": "code",
   "execution_count": null,
   "metadata": {},
   "outputs": [],
   "source": [
    "for i in diff(all_exp_ids, keep_exp_ids):\n",
    "    print('EXPERIMENT IDS TO DELETE =', i)\n",
    "    exp_to_delete = user.getExperiment(i)\n",
    "    exp_to_delete.delete()"
   ]
  }
 ],
 "metadata": {
  "kernelspec": {
   "display_name": "Python 3",
   "language": "python",
   "name": "python3"
  },
  "language_info": {
   "codemirror_mode": {
    "name": "ipython",
    "version": 3
   },
   "file_extension": ".py",
   "mimetype": "text/x-python",
   "name": "python",
   "nbconvert_exporter": "python",
   "pygments_lexer": "ipython3",
   "version": "3.7.3"
  }
 },
 "nbformat": 4,
 "nbformat_minor": 2
}