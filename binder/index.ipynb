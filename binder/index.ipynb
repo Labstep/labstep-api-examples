{
 "cells": [
  {
   "cell_type": "markdown",
   "metadata": {},
   "source": [
    "## Setup"
   ]
  },
  {
   "cell_type": "code",
   "execution_count": 6,
   "metadata": {},
   "outputs": [],
   "source": [
    "#pip install labstep"
   ]
  },
  {
   "cell_type": "code",
   "execution_count": 4,
   "metadata": {},
   "outputs": [
    {
     "name": "stdout",
     "output_type": "stream",
     "text": [
      "https://api-testing.labstep.com/api/generic/user/apitest%40labstep.com\n"
     ]
    }
   ],
   "source": [
    "import labstep\n",
    "\n",
    "user = labstep.authenticate(username='YOUR_USERNAME',\n",
    "                            apikey='YOuR_API_KEY_HERE')"
   ]
  },
  {
   "cell_type": "markdown",
   "metadata": {},
   "source": [
    "## Start coding"
   ]
  },
  {
   "cell_type": "code",
   "execution_count": null,
   "metadata": {},
   "outputs": [],
   "source": [
    "# Create a new Workspace and set to that workspace\n",
    "workspace = user.newWorkspace(name='Aspirin Project')\n",
    "user.setWorkspace(workspace.id)"
   ]
  },
  {
   "cell_type": "markdown",
   "metadata": {},
   "source": [
    "![title](aspirin.png)"
   ]
  },
  {
   "cell_type": "code",
   "execution_count": null,
   "metadata": {},
   "outputs": [],
   "source": [
    "# Create an Experiment\n",
    "my_experiment = user.newExperiment(name='Synthesis of Aspirin',\n",
    "                                   description='Aspirin is a drug...')\n",
    "\n",
    "# Check to see if all experiments is created"
   ]
  },
  {
   "cell_type": "code",
   "execution_count": null,
   "metadata": {},
   "outputs": [],
   "source": [
    "# Upload the reaction scheme\n",
    "# Or choose any file as a test\n",
    "user.newFile('./aspirin_reaction_scheme.png')"
   ]
  },
  {
   "cell_type": "code",
   "execution_count": null,
   "metadata": {},
   "outputs": [],
   "source": [
    "# Create a Protocol\n",
    "my_protocol = user.newProtocol('Aspirin Synthesis')"
   ]
  },
  {
   "cell_type": "code",
   "execution_count": null,
   "metadata": {},
   "outputs": [],
   "source": [
    "# Create Resource Category\n",
    "chemicalCategory = user.newResourceCategory('Chemical')\n",
    "chemicalCategory.addMetadata(fieldName='Molar mass')\n",
    "chemicalCategory.addMetadata(fieldName='Density')\n",
    "chemicalCategory.addMetadata(fieldName='Melting point')"
   ]
  },
  {
   "cell_type": "code",
   "execution_count": null,
   "metadata": {},
   "outputs": [],
   "source": [
    "# Add Resources\n",
    "salicylic_acid = user.newResource('Salicylic Acid')\n",
    "salicylic_acid.addComment('Here is the chemical structure',\n",
    "                          './salicylic_acid.png')\n",
    "salicylic_acid.addMetadata(fieldName='Formula', value='C7H6O3')\n",
    "salicylic_acid.addMetadata(fieldName='Hazards', value='Corrosive, irritant')"
   ]
  }
 ],
 "metadata": {
  "kernelspec": {
   "display_name": "Python 3",
   "language": "python",
   "name": "python3"
  },
  "language_info": {
   "codemirror_mode": {
    "name": "ipython",
    "version": 3
   },
   "file_extension": ".py",
   "mimetype": "text/x-python",
   "name": "python",
   "nbconvert_exporter": "python",
   "pygments_lexer": "ipython3",
   "version": "3.7.3"
  }
 },
 "nbformat": 4,
 "nbformat_minor": 2
}